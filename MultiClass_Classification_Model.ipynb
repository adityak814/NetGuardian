{
 "cells": [
  {
   "cell_type": "code",
   "execution_count": 12,
   "id": "b18030a9-acb5-43a2-b0aa-055c532231fe",
   "metadata": {},
   "outputs": [],
   "source": [
    "import pandas as pd\n",
    "import numpy as np\n",
    "import re\n",
    "import urllib.parse\n",
    "import html\n",
    "from collections import Counter\n",
    "from sklearn.model_selection import train_test_split, StratifiedKFold, cross_val_score\n",
    "from sklearn.feature_extraction.text import TfidfVectorizer, CountVectorizer\n",
    "from sklearn.metrics import accuracy_score, classification_report, confusion_matrix, f1_score, precision_recall_fscore_support\n",
    "from sklearn.preprocessing import StandardScaler\n",
    "from sklearn.ensemble import RandomForestClassifier\n",
    "from sklearn.linear_model import LogisticRegression\n",
    "from sklearn.svm import SVC, OneClassSVM\n",
    "from sklearn.neighbors import LocalOutlierFactor\n",
    "from sklearn.decomposition import TruncatedSVD\n",
    "import xgboost as xgb\n",
    "import lightgbm as lgb\n",
    "from scipy.sparse import hstack\n",
    "import matplotlib.pyplot as plt\n",
    "import seaborn as sns\n",
    "import warnings\n",
    "warnings.filterwarnings('ignore')"
   ]
  },
  {
   "cell_type": "markdown",
   "id": "4905fec9-857c-45ef-afde-3c2d237f6677",
   "metadata": {},
   "source": [
    "#### Define Attack Patterns"
   ]
  },
  {
   "cell_type": "code",
   "execution_count": 15,
   "id": "9860b4d3-46df-43e7-bbf6-6b4c5d2fe7a1",
   "metadata": {},
   "outputs": [],
   "source": [
    "# SQL Injection patterns\n",
    "sqli_patterns = [\n",
    "    r\"(?i)(\\bUNION\\b.*\\bSELECT\\b|\\bSELECT\\b.*\\bUNION\\b)\",\n",
    "    r\"(?i)(1\\s*=\\s*1|0\\s*=\\s*0|\\btrue\\b|\\bfalse\\b)\",\n",
    "    r\"(?i)(\\'\\s*=\\s*\\'|\\\"\\s*=\\s*\\\")\",\n",
    "    r\"(--|\\#|\\/\\*|\\*\\/)\",\n",
    "    r\"(?i)\\bexec(ute)?\\s*[\\(\\s]\",\n",
    "    r\"(?i)(char\\(|ascii\\(|substring\\(|length\\(|version\\()\",\n",
    "    r\"(?i)(waitfor\\s+delay|benchmark\\(|sleep\\()\",\n",
    "    r\"(?i)(extractvalue\\(|updatexml\\(|exp\\()\",\n",
    "    r\";\\s*(drop|insert|update|delete|create|alter)\",\n",
    "    r\"[\\'\\\"][^\\'\\\"]*[\\'\\\"]\",\n",
    "    r\"(?i)\\bhaving\\b.*\\bcount\\b\",\n",
    "    r\"(?i)\\border\\s+by\\b.*\\d+\"\n",
    "]\n",
    "\n",
    "# XSS patterns\n",
    "xss_patterns = [\n",
    "    r\"(?i)<\\s*script[^>]*>.*?</script>\",\n",
    "    r\"(?i)<\\s*script[^>]*>\",\n",
    "    r\"(?i)on(load|error|click|mouseover|focus|blur|change|submit)\\s*=\",\n",
    "    r\"(?i)javascript\\s*:\",\n",
    "    r\"(?i)&\\#(x)?[0-9a-f]+;\",\n",
    "    r\"(?i)<\\s*img[^>]*src\\s*=\\s*[\\\"']?javascript:\",\n",
    "    r\"(?i)<\\s*iframe[^>]*>\",\n",
    "    r\"(?i)<\\s*(object|embed)[^>]*>\",\n",
    "    r\"(?i)(alert|confirm|prompt)\\s*\\(\",\n",
    "    r\"(?i)document\\.(write|writeln|cookie)\",\n",
    "    r\"(?i)(expression\\(|eval\\()\",\n",
    "    r\"(?i)<\\s*meta[^>]*refresh\"\n",
    "]\n"
   ]
  },
  {
   "cell_type": "markdown",
   "id": "5b27e904-4ec5-492f-809b-1473ab8067ea",
   "metadata": {},
   "source": [
    "#### Advanced Text Preprocessing"
   ]
  },
  {
   "cell_type": "code",
   "execution_count": 18,
   "id": "af0b515f-8728-485c-9e68-bf9b7caa27f4",
   "metadata": {},
   "outputs": [],
   "source": [
    "def preprocess_text(text):\n",
    "    if pd.isna(text) or text == \"\":\n",
    "        return \"\"\n",
    "    decoded = text\n",
    "    for _ in range(3):\n",
    "        try:\n",
    "            new_decoded = urllib.parse.unquote_plus(decoded)\n",
    "            if new_decoded == decoded:\n",
    "                break\n",
    "            decoded = new_decoded\n",
    "        except:\n",
    "            break\n",
    "    decoded = html.unescape(decoded)\n",
    "    try:\n",
    "        decoded = bytes(decoded, \"utf-8\").decode(\"unicode_escape\")\n",
    "    except:\n",
    "        pass\n",
    "    decoded = ' '.join(decoded.split()).lower()\n",
    "    return decoded\n"
   ]
  },
  {
   "cell_type": "markdown",
   "id": "d6b41580-38cd-4c96-807e-842536f2a135",
   "metadata": {},
   "source": [
    "#### Load Data and Handle Missing Values"
   ]
  },
  {
   "cell_type": "code",
   "execution_count": 21,
   "id": "42871d77-fe77-4102-b63a-242a4e00c826",
   "metadata": {},
   "outputs": [
    {
     "name": "stdout",
     "output_type": "stream",
     "text": [
      "Dataset shape: (61065, 17)\n"
     ]
    }
   ],
   "source": [
    "file_path = \"csic_database.csv\"\n",
    "df = pd.read_csv(file_path)\n",
    "print(\"Dataset shape:\", df.shape)\n",
    "\n",
    "for col in [\"Method\", \"URL\", \"content\", \"User-Agent\"]:\n",
    "    if col in df.columns:\n",
    "        df[col] = df[col].fillna(\"\")\n",
    "\n",
    "# print(df.head(3))\n"
   ]
  },
  {
   "cell_type": "markdown",
   "id": "35e71c7e-5bf0-479f-863b-73e7bc881ec0",
   "metadata": {},
   "source": [
    "#### Extract Numerical Features and Assign Labels"
   ]
  },
  {
   "cell_type": "code",
   "execution_count": 24,
   "id": "f2bb4ff1-8039-469f-b511-a50a5d5156cb",
   "metadata": {},
   "outputs": [
    {
     "name": "stdout",
     "output_type": "stream",
     "text": [
      "Features extracted and labels assigned\n"
     ]
    }
   ],
   "source": [
    "# Prepare storage for features and labels\n",
    "feature_list = []\n",
    "attack_labels = []\n",
    "\n",
    "for idx, row in df.iterrows():\n",
    "    method = str(row[\"Method\"])\n",
    "    url = str(row[\"URL\"])\n",
    "    content = str(row[\"content\"])\n",
    "    ua = str(row[\"User-Agent\"])\n",
    "    combined = \" \".join([preprocess_text(field) for field in [method, url, content, ua]])\n",
    "\n",
    "    # Numerical features\n",
    "    feats = {}\n",
    "    feats[\"request_length\"] = len(combined)\n",
    "    feats[\"url_length\"] = len(url)\n",
    "    feats[\"content_length\"] = len(content)\n",
    "    feats[\"user_agent_length\"] = len(ua)\n",
    "    if combined:\n",
    "        special_chars = '!@#$%^&*()[]{}|\\\\:\";\\'<>?,./`~'\n",
    "        feats[\"special_char_ratio\"] = sum(c in special_chars for c in combined) / len(combined)\n",
    "        feats[\"digit_ratio\"] = sum(c.isdigit() for c in combined) / len(combined)\n",
    "        feats[\"alpha_ratio\"] = sum(c.isalpha() for c in combined) / len(combined)\n",
    "        feats[\"space_ratio\"] = combined.count(\" \") / len(combined)\n",
    "        feats[\"quote_count\"] = combined.count(\"'\") + combined.count('\"')\n",
    "        feats[\"bracket_count\"] = combined.count(\"<\") + combined.count(\">\")\n",
    "        feats[\"semicolon_count\"] = combined.count(\";\")\n",
    "        feats[\"equals_count\"] = combined.count(\"=\")\n",
    "        feats[\"ampersand_count\"] = combined.count(\"&\")\n",
    "    else:\n",
    "        for key in [\"special_char_ratio\", \"digit_ratio\", \"alpha_ratio\", \"space_ratio\",\n",
    "                    \"quote_count\", \"bracket_count\", \"semicolon_count\", \"equals_count\", \"ampersand_count\"]:\n",
    "            feats[key] = 0\n",
    "\n",
    "    feats[\"url_param_count\"] = url.count(\"&\") + url.count(\"=\")\n",
    "    feats[\"url_query_length\"] = len(url.split(\"?\")[-1]) if \"?\" in url else 0\n",
    "    feats[\"url_path_depth\"] = url.count(\"/\")\n",
    "\n",
    "    feats[\"sqli_pattern_score\"] = sum(bool(re.search(p, combined)) for p in sqli_patterns)\n",
    "    feats[\"xss_pattern_score\"] = sum(bool(re.search(p, combined)) for p in xss_patterns)\n",
    "\n",
    "    # Entropy\n",
    "    if combined:\n",
    "        counts = Counter(combined)\n",
    "        total = len(combined)\n",
    "        entropy = -sum((cnt / total) * np.log2(cnt / total) for cnt in counts.values())\n",
    "        feats[\"entropy\"] = entropy\n",
    "    else:\n",
    "        feats[\"entropy\"] = 0\n",
    "\n",
    "    # Append features\n",
    "    feature_list.append(feats)\n",
    "\n",
    "    # Attack type labeling\n",
    "    if row.get(\"classification\", 1) == 0:\n",
    "        attack_labels.append(0)\n",
    "    else:\n",
    "        sqli_score = sum(len(re.findall(p, combined)) * 2 for p in sqli_patterns)\n",
    "        xss_score = sum(len(re.findall(p, combined)) * 2 for p in xss_patterns)\n",
    "        for kw in [\"select\", \"union\", \"insert\", \"update\", \"delete\", \"drop\", \"exec\", \"char\", \"ascii\", \"substring\", \"concat\"]:\n",
    "            if kw in combined:\n",
    "                sqli_score += 1\n",
    "        for kw in [\"script\", \"iframe\", \"object\", \"embed\", \"onload\", \"onclick\", \"onerror\", \"alert\", \"confirm\", \"prompt\", \"javascript\"]:\n",
    "            if kw in combined:\n",
    "                xss_score += 1\n",
    "\n",
    "        if sqli_score >= 3 and sqli_score > xss_score:\n",
    "            attack_labels.append(1)\n",
    "        elif xss_score >= 3 and xss_score > sqli_score:\n",
    "            attack_labels.append(2)\n",
    "        elif sqli_score >= 1 or xss_score >= 1:\n",
    "            attack_labels.append(3)\n",
    "        else:\n",
    "            attack_labels.append(3)\n",
    "\n",
    "# Convert features list to DataFrame\n",
    "numerical_features_df = pd.DataFrame(feature_list)\n",
    "\n",
    "print(\"Features extracted and labels assigned\")\n",
    "\n"
   ]
  },
  {
   "cell_type": "markdown",
   "id": "302467fc-e87f-4271-b814-0a4cdea16418",
   "metadata": {},
   "source": [
    "#### Create Text Matrix for Vectorization"
   ]
  },
  {
   "cell_type": "code",
   "execution_count": 26,
   "id": "9a7b1938-7db2-4818-b36f-984a9911bcc0",
   "metadata": {},
   "outputs": [],
   "source": [
    "combined_texts = []\n",
    "for idx, row in df.iterrows():\n",
    "    fields = [str(row[\"Method\"]), str(row[\"URL\"]), str(row[\"content\"]), str(row[\"User-Agent\"])]\n",
    "    combined_texts.append(\" \".join(preprocess_text(f) for f in fields))"
   ]
  },
  {
   "cell_type": "markdown",
   "id": "7c0fe80b-6e41-4308-b3b7-164560a7d539",
   "metadata": {},
   "source": [
    "#### Vectorize Text and Combine with Numerical Features"
   ]
  },
  {
   "cell_type": "code",
   "execution_count": 29,
   "id": "0afa110b-1082-4e68-9370-0a65beb0053f",
   "metadata": {},
   "outputs": [],
   "source": [
    "# Vectorizers\n",
    "tfidf_char = TfidfVectorizer(analyzer=\"char_wb\", ngram_range=(2,4), max_features=5000, min_df=2, max_df=0.95)\n",
    "tfidf_word = TfidfVectorizer(analyzer=\"word\", ngram_range=(1,2), max_features=3000, min_df=2, max_df=0.95)\n",
    "count_vec = CountVectorizer(analyzer=\"char\", ngram_range=(3,5), max_features=2000, binary=True)\n",
    "\n",
    "X_char = tfidf_char.fit_transform(combined_texts)\n",
    "X_word = tfidf_word.fit_transform(combined_texts)\n",
    "X_count = count_vec.fit_transform(combined_texts)\n",
    "\n",
    "scaler = StandardScaler()\n",
    "X_num = scaler.fit_transform(numerical_features_df.values)\n",
    "\n",
    "X = hstack([X_char, X_word, X_count, X_num])\n",
    "y = np.array(attack_labels)\n"
   ]
  },
  {
   "cell_type": "markdown",
   "id": "1539874c-c909-4c6c-bce5-a2c7c10965f5",
   "metadata": {},
   "source": [
    "#### Train-Test Split for Multiclass Classification (Normal vs SQLi vs XSS vs Others)"
   ]
  },
  {
   "cell_type": "code",
   "execution_count": 32,
   "id": "9adee7e1-3475-4d09-a536-6f347369b53c",
   "metadata": {},
   "outputs": [],
   "source": [
    "X_train, X_test, y_train, y_test = train_test_split(X, y, test_size=0.2, random_state=42, stratify=y)"
   ]
  },
  {
   "cell_type": "markdown",
   "id": "a61ec114-d7b8-485c-8d28-83883027ea0e",
   "metadata": {},
   "source": [
    "#### Define and Train Models"
   ]
  },
  {
   "cell_type": "code",
   "execution_count": 35,
   "id": "f55480b2-b1b8-41df-b62c-59403f83881e",
   "metadata": {},
   "outputs": [
    {
     "name": "stdout",
     "output_type": "stream",
     "text": [
      "XGBoost: Accuracy=0.9849, Weighted F1=0.9848\n",
      "LightGBM: Accuracy=0.9854, Weighted F1=0.9854\n",
      "Random Forest: Accuracy=0.8774, Weighted F1=0.8799\n",
      "Logistic Regression: Accuracy=0.9842, Weighted F1=0.9842\n"
     ]
    }
   ],
   "source": [
    "multiClass_models = {\n",
    "    \"XGBoost\": xgb.XGBClassifier(n_estimators=200, max_depth=6, learning_rate=0.1, subsample=0.8, colsample_bytree=0.8, random_state=42, eval_metric=\"mlogloss\"),\n",
    "    \"LightGBM\": lgb.LGBMClassifier(n_estimators=200, max_depth=6, learning_rate=0.1, subsample=0.8, colsample_bytree=0.8, random_state=42, verbose=-1),\n",
    "    \"Random Forest\": RandomForestClassifier(n_estimators=200, max_depth=10, min_samples_split=5, min_samples_leaf=2, random_state=42, n_jobs=-1),\n",
    "    \"Logistic Regression\": LogisticRegression(max_iter=2000, C=1.0, random_state=42, n_jobs=-1),\n",
    "}\n",
    "\n",
    "results = {}\n",
    "for name, model in multiClass_models.items():\n",
    "    model.fit(X_train, y_train)\n",
    "    y_pred = model.predict(X_test)\n",
    "    acc = accuracy_score(y_test, y_pred)\n",
    "    f1 = f1_score(y_test, y_pred, average=\"weighted\")\n",
    "    results[name] = {\"accuracy\": acc, \"f1\": f1, \"y_pred\": y_pred}\n",
    "    print(f\"{name}: Accuracy={acc:.4f}, Weighted F1={f1:.4f}\")\n"
   ]
  },
  {
   "cell_type": "markdown",
   "id": "14a04967-6221-432d-b377-128b71519493",
   "metadata": {},
   "source": [
    "#### Classification Reports and Confusion Matrices"
   ]
  },
  {
   "cell_type": "code",
   "execution_count": 38,
   "id": "40d80f01-aa58-4e2c-a465-30ca3d8a6f73",
   "metadata": {},
   "outputs": [
    {
     "name": "stdout",
     "output_type": "stream",
     "text": [
      "\n",
      "XGBoost Classification Report\n",
      "              precision    recall  f1-score   support\n",
      "\n",
      "      Normal       0.98      1.00      0.99      7200\n",
      "        SQLi       1.00      1.00      1.00       486\n",
      "         XSS       1.00      1.00      1.00       301\n",
      "       Other       1.00      0.96      0.98      4226\n",
      "\n",
      "    accuracy                           0.98     12213\n",
      "   macro avg       0.99      0.99      0.99     12213\n",
      "weighted avg       0.99      0.98      0.98     12213\n",
      "\n"
     ]
    },
    {
     "data": {
      "image/png": "[encoded data removed]",
      "text/plain": [
       "<Figure size 400x300 with 2 Axes>"
      ]
     },
     "metadata": {},
     "output_type": "display_data"
    },
    {
     "name": "stdout",
     "output_type": "stream",
     "text": [
      "\n",
      "LightGBM Classification Report\n",
      "              precision    recall  f1-score   support\n",
      "\n",
      "      Normal       0.98      1.00      0.99      7200\n",
      "        SQLi       1.00      1.00      1.00       486\n",
      "         XSS       1.00      1.00      1.00       301\n",
      "       Other       0.99      0.96      0.98      4226\n",
      "\n",
      "    accuracy                           0.99     12213\n",
      "   macro avg       0.99      0.99      0.99     12213\n",
      "weighted avg       0.99      0.99      0.99     12213\n",
      "\n"
     ]
    },
    {
     "data": {
      "image/png": "[encoded data removed]",
      "text/plain": [
       "<Figure size 400x300 with 2 Axes>"
      ]
     },
     "metadata": {},
     "output_type": "display_data"
    },
    {
     "name": "stdout",
     "output_type": "stream",
     "text": [
      "\n",
      "Random Forest Classification Report\n",
      "              precision    recall  f1-score   support\n",
      "\n",
      "      Normal       0.98      0.83      0.90      7200\n",
      "        SQLi       1.00      0.78      0.87       486\n",
      "         XSS       1.00      1.00      1.00       301\n",
      "       Other       0.75      0.97      0.85      4226\n",
      "\n",
      "    accuracy                           0.88     12213\n",
      "   macro avg       0.93      0.89      0.90     12213\n",
      "weighted avg       0.90      0.88      0.88     12213\n",
      "\n"
     ]
    },
    {
     "data": {
      "image/png": "[encoded data removed]",
      "text/plain": [
       "<Figure size 400x300 with 2 Axes>"
      ]
     },
     "metadata": {},
     "output_type": "display_data"
    },
    {
     "name": "stdout",
     "output_type": "stream",
     "text": [
      "\n",
      "Logistic Regression Classification Report\n",
      "              precision    recall  f1-score   support\n",
      "\n",
      "      Normal       0.98      0.99      0.99      7200\n",
      "        SQLi       1.00      1.00      1.00       486\n",
      "         XSS       1.00      1.00      1.00       301\n",
      "       Other       0.99      0.97      0.98      4226\n",
      "\n",
      "    accuracy                           0.98     12213\n",
      "   macro avg       0.99      0.99      0.99     12213\n",
      "weighted avg       0.98      0.98      0.98     12213\n",
      "\n"
     ]
    },
    {
     "data": {
      "image/png": "[encoded data removed]",
      "text/plain": [
       "<Figure size 400x300 with 2 Axes>"
      ]
     },
     "metadata": {},
     "output_type": "display_data"
    }
   ],
   "source": [
    "labels = [\"Normal\",\"SQLi\",\"XSS\",\"Other\"]\n",
    "for name, res in results.items():\n",
    "    print(f\"\\n{name} Classification Report\")\n",
    "    print(classification_report(y_test, res[\"y_pred\"], target_names=labels, zero_division=0))\n",
    "    cm = confusion_matrix(y_test, res[\"y_pred\"])\n",
    "    plt.figure(figsize=(4,3))\n",
    "    sns.heatmap(cm, annot=True, fmt=\"d\", cmap=\"Blues\", xticklabels=labels, yticklabels=labels)\n",
    "    plt.title(name)\n",
    "    plt.xlabel(\"Predicted\")\n",
    "    plt.ylabel(\"Actual\")\n",
    "    plt.show()\n"
   ]
  },
  {
   "cell_type": "markdown",
   "id": "3a4ad37f-8011-43c8-9d99-d4bd40ff36fe",
   "metadata": {},
   "source": [
    "#### Cross-Validation on Best Model"
   ]
  },
  {
   "cell_type": "code",
   "execution_count": 43,
   "id": "2e5612fe-0d98-4586-a47d-aba6ae3f25d7",
   "metadata": {},
   "outputs": [
    {
     "name": "stdout",
     "output_type": "stream",
     "text": [
      "Best Model: LightGBM\n",
      "LightGBM 5-Fold Weighted F1: [0.9860392  0.98594761 0.98727276 0.98545617 0.98413638]\n",
      "Mean: 0.9858, Std: 0.0010\n"
     ]
    }
   ],
   "source": [
    "best_name = max(results, key=lambda x: results[x][\"f1\"])\n",
    "best_model = multiClass_models[best_name]\n",
    "print(f\"Best Model: {best_name}\")\n",
    "cv = StratifiedKFold(n_splits=5, shuffle=True, random_state=42)\n",
    "cv_scores = cross_val_score(best_model, X, y, cv=cv, scoring=\"f1_weighted\", n_jobs=-1)\n",
    "print(f\"{best_name} 5-Fold Weighted F1: {cv_scores}\")\n",
    "print(f\"Mean: {cv_scores.mean():.4f}, Std: {cv_scores.std():.4f}\")\n"
   ]
  },
  {
   "cell_type": "markdown",
   "id": "41c687b4-5366-4437-875c-51320374776b",
   "metadata": {},
   "source": [
    "#### Final Performance Summary"
   ]
  },
  {
   "cell_type": "code",
   "execution_count": 46,
   "id": "8a24a9f3-4d6e-46c0-9e90-1665bcff6abc",
   "metadata": {},
   "outputs": [
    {
     "name": "stdout",
     "output_type": "stream",
     "text": [
      "Performance summary:\n"
     ]
    },
    {
     "data": {
      "text/html": [
       "<div>\n",
       "<style scoped>\n",
       "    .dataframe tbody tr th:only-of-type {\n",
       "        vertical-align: middle;\n",
       "    }\n",
       "\n",
       "    .dataframe tbody tr th {\n",
       "        vertical-align: top;\n",
       "    }\n",
       "\n",
       "    .dataframe thead th {\n",
       "        text-align: right;\n",
       "    }\n",
       "</style>\n",
       "<table border=\"1\" class=\"dataframe\">\n",
       "  <thead>\n",
       "    <tr style=\"text-align: right;\">\n",
       "      <th></th>\n",
       "      <th>Model</th>\n",
       "      <th>Accuracy</th>\n",
       "      <th>Weighted F1</th>\n",
       "    </tr>\n",
       "  </thead>\n",
       "  <tbody>\n",
       "    <tr>\n",
       "      <th>1</th>\n",
       "      <td>LightGBM</td>\n",
       "      <td>0.985425</td>\n",
       "      <td>0.985375</td>\n",
       "    </tr>\n",
       "    <tr>\n",
       "      <th>0</th>\n",
       "      <td>XGBoost</td>\n",
       "      <td>0.984852</td>\n",
       "      <td>0.984793</td>\n",
       "    </tr>\n",
       "    <tr>\n",
       "      <th>3</th>\n",
       "      <td>Logistic Regression</td>\n",
       "      <td>0.984197</td>\n",
       "      <td>0.984167</td>\n",
       "    </tr>\n",
       "    <tr>\n",
       "      <th>2</th>\n",
       "      <td>Random Forest</td>\n",
       "      <td>0.877426</td>\n",
       "      <td>0.879850</td>\n",
       "    </tr>\n",
       "  </tbody>\n",
       "</table>\n",
       "</div>"
      ],
      "text/plain": [
       "                 Model  Accuracy  Weighted F1\n",
       "1             LightGBM  0.985425     0.985375\n",
       "0              XGBoost  0.984852     0.984793\n",
       "3  Logistic Regression  0.984197     0.984167\n",
       "2        Random Forest  0.877426     0.879850"
      ]
     },
     "metadata": {},
     "output_type": "display_data"
    },
    {
     "name": "stdout",
     "output_type": "stream",
     "text": [
      "Best model: LightGBM with Weighted F1 = 0.9854\n"
     ]
    }
   ],
   "source": [
    "perf = []\n",
    "for name, res in results.items():\n",
    "    perf.append({\"Model\": name, \"Accuracy\": res[\"accuracy\"], \"Weighted F1\": res[\"f1\"]})\n",
    "perf_df = pd.DataFrame(perf).sort_values(\"Weighted F1\", ascending=False)\n",
    "print(\"Performance summary:\")\n",
    "display(perf_df)\n",
    "print(f\"Best model: {perf_df.iloc[0]['Model']} with Weighted F1 = {perf_df.iloc[0]['Weighted F1']:.4f}\")"
   ]
  }
 ],
 "metadata": {
  "kernelspec": {
   "display_name": "Python 3 (ipykernel)",
   "language": "python",
   "name": "python3"
  },
  "language_info": {
   "codemirror_mode": {
    "name": "ipython",
    "version": 3
   },
   "file_extension": ".py",
   "mimetype": "text/x-python",
   "name": "python",
   "nbconvert_exporter": "python",
   "pygments_lexer": "ipython3",
   "version": "3.12.7"
  }
 },
 "nbformat": 4,
 "nbformat_minor": 5
}
